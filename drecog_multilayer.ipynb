{
 "cells": [
  {
   "cell_type": "markdown",
   "metadata": {},
   "source": [
    "# DIGITAL RECOGNIZER\n",
    "\n",
    "In this kaggle project, we have implemented neural networks to correctly identify digits from a dataset of tens of thousands of handwritten images. \n",
    "\n",
    "Data Set:\n",
    "\n",
    "We downloaded the MNIST (\"Modified National Institute of Standards and Technology) data from kaggle.com. Please refer the link below:\n",
    "https://www.kaggle.com/c/digit-recognizer\n",
    "\n",
    "Design Decisions:\n",
    "1. We performed feature scaling using sklearn.\n",
    "2. Cross validation was performed.\n",
    "3. 2 hidden layers with 50 hidden nodes have been implemented.\n",
    "4. Learning rate of 0.1 was set for initial iterations and later was reduced to 0.1.\n",
    "5. Sigmoid function is used as activation function."
   ]
  },
  {
   "cell_type": "markdown",
   "metadata": {},
   "source": [
    "Import required libraries and set default parameters"
   ]
  },
  {
   "cell_type": "code",
   "execution_count": 10,
   "metadata": {
    "collapsed": true
   },
   "outputs": [],
   "source": [
    "import pandas as pd\n",
    "import numpy as np\n",
    "import seaborn as sns\n",
    "import matplotlib.pyplot as plt\n",
    "from sklearn.preprocessing import StandardScaler\n",
    "%matplotlib inline\n",
    "import random\n",
    "no_of_features = 784\n",
    "hidden_nodes = 50\n",
    "output_nodes = 10\n",
    "hidden_nodes2 = 50"
   ]
  },
  {
   "cell_type": "markdown",
   "metadata": {},
   "source": [
    "Read train and test data into pandas data frames."
   ]
  },
  {
   "cell_type": "code",
   "execution_count": 11,
   "metadata": {
    "collapsed": true
   },
   "outputs": [],
   "source": [
    "df = pd.read_csv('train.csv')\n",
    "test = pd.read_csv('test.csv')"
   ]
  },
  {
   "cell_type": "markdown",
   "metadata": {},
   "source": [
    "We have performed feature scaling below to avoid overflow and improved accuracy."
   ]
  },
  {
   "cell_type": "code",
   "execution_count": 12,
   "metadata": {
    "collapsed": true
   },
   "outputs": [],
   "source": [
    "scaler = StandardScaler()\n",
    "scaler.fit(df.drop('label',axis=1))\n",
    "scaled_features = scaler.transform(df.drop('label',axis=1))\n",
    "image_features = pd.DataFrame(scaled_features,columns=df.columns[1:])"
   ]
  },
  {
   "cell_type": "code",
   "execution_count": 13,
   "metadata": {
    "collapsed": true
   },
   "outputs": [],
   "source": [
    "train_features = image_features"
   ]
  },
  {
   "cell_type": "code",
   "execution_count": 14,
   "metadata": {
    "collapsed": true
   },
   "outputs": [],
   "source": [
    "train_label = df['label']"
   ]
  },
  {
   "cell_type": "markdown",
   "metadata": {},
   "source": [
    "Cross-validation has been performed below."
   ]
  },
  {
   "cell_type": "code",
   "execution_count": 15,
   "metadata": {
    "collapsed": true
   },
   "outputs": [],
   "source": [
    "from sklearn.model_selection import train_test_split\n",
    "x_train,x_test,y_train,y_test = train_test_split(train_features,train_label,test_size=0.30)"
   ]
  },
  {
   "cell_type": "code",
   "execution_count": 16,
   "metadata": {
    "collapsed": true
   },
   "outputs": [],
   "source": [
    "train_features = x_train\n",
    "train_label = y_train\n",
    "test_features = x_test\n",
    "test_label = y_test\n",
    "train_label = train_label.reset_index()\n",
    "train_label = train_label.drop('index',axis=1)\n",
    "train_features = train_features.reset_index()\n",
    "train_features = train_features.drop('index',axis=1)\n",
    "\n",
    "test_label = test_label.reset_index()\n",
    "test_label = test_label.drop('index',axis=1)\n",
    "test_features = test_features.reset_index()\n",
    "test_features = test_features.drop('index',axis=1)\n",
    "test_label = np.array(test_label)"
   ]
  },
  {
   "cell_type": "markdown",
   "metadata": {},
   "source": [
    "Create matrix for storing weights for each layer."
   ]
  },
  {
   "cell_type": "code",
   "execution_count": 17,
   "metadata": {
    "collapsed": true
   },
   "outputs": [],
   "source": [
    "def init_matrix(mat, row, column):\n",
    "    mat =[]\n",
    "    for i in range(row):\n",
    "        arr =[]\n",
    "        for j in range(column):\n",
    "            val = random.uniform(-1.0,1.0)\n",
    "            arr.append(val)\n",
    "        mat.append(arr)\n",
    "    return mat"
   ]
  },
  {
   "cell_type": "markdown",
   "metadata": {},
   "source": [
    "We initialize the weight matrix with random weights between 1 and -1."
   ]
  },
  {
   "cell_type": "code",
   "execution_count": 18,
   "metadata": {
    "collapsed": true
   },
   "outputs": [],
   "source": [
    "def initialize_weights():\n",
    "    w1 = []\n",
    "    w2 = []\n",
    "    w3 = []\n",
    "    w1 = init_matrix(w1,no_of_features,hidden_nodes)\n",
    "    w2 = init_matrix(w2,hidden_nodes2,output_nodes)\n",
    "    w3 = init_matrix(w3,hidden_nodes,hidden_nodes2)\n",
    "    w1 = np.array(w1)\n",
    "    w2 = np.array(w2)\n",
    "    w3 = np.array(w3)\n",
    "    return w1,w2,w3"
   ]
  },
  {
   "cell_type": "markdown",
   "metadata": {},
   "source": [
    "Sigmoid function used for activation."
   ]
  },
  {
   "cell_type": "code",
   "execution_count": 19,
   "metadata": {
    "collapsed": true
   },
   "outputs": [],
   "source": [
    "def sigmoid_function(z):\n",
    "    z =  1.0/(1.0+np.exp(np.negative(z)))\n",
    "    return z"
   ]
  },
  {
   "cell_type": "markdown",
   "metadata": {},
   "source": [
    "Derivative of sigmoid function."
   ]
  },
  {
   "cell_type": "code",
   "execution_count": 20,
   "metadata": {
    "collapsed": true
   },
   "outputs": [],
   "source": [
    "def diff_sigmoid_function(z):\n",
    "    a = (z*(1-z))\n",
    "    return a"
   ]
  },
  {
   "cell_type": "markdown",
   "metadata": {},
   "source": [
    "Code for encoding the labels into format interpretable by neural network."
   ]
  },
  {
   "cell_type": "code",
   "execution_count": 21,
   "metadata": {
    "collapsed": true,
    "scrolled": false
   },
   "outputs": [],
   "source": [
    "def actual_output(train_label):\n",
    "    y = []\n",
    "    for i in range(0,len(train_label)):\n",
    "        \n",
    "        if train_label[i]== 1:\n",
    "            y.append((0,1,0,0,0,0,0,0,0,0))\n",
    "        elif train_label[i] == 2:\n",
    "            y.append((0,0,1,0,0,0,0,0,0,0))\n",
    "        elif train_label[i]== 3:\n",
    "            y.append((0,0,0,1,0,0,0,0,0,0))\n",
    "        elif train_label[i] == 4:\n",
    "            y.append((0,0,0,0,1,0,0,0,0,0))\n",
    "        elif train_label[i]== 5:\n",
    "            y.append((0,0,0,0,0,1,0,0,0,0))\n",
    "        elif train_label[i] == 6:\n",
    "            y.append((0,0,0,0,0,0,1,0,0,0))\n",
    "        elif train_label[i]== 7:\n",
    "            y.append((0,0,0,0,0,0,0,1,0,0))\n",
    "        elif train_label[i]== 8:\n",
    "            y.append((0,0,0,0,0,0,0,0,1,0))\n",
    "        elif train_label[i] == 9:\n",
    "            y.append((0,0,0,0,0,0,0,0,0,1))\n",
    "        elif train_label[i] == 0:\n",
    "            y.append((1,0,0,0,0,0,0,0,0,0))\n",
    "    return y\n"
   ]
  },
  {
   "cell_type": "markdown",
   "metadata": {},
   "source": [
    "Implementation of Feed forward to the neural network."
   ]
  },
  {
   "cell_type": "code",
   "execution_count": 22,
   "metadata": {
    "collapsed": true
   },
   "outputs": [],
   "source": [
    "def feedforward(w1,w2,w3,x):\n",
    "    z2 = np.dot(x,w1)\n",
    "    a1 = sigmoid_function(z2)\n",
    "    z4 = np.dot(a1,w3)\n",
    "    a3 = sigmoid_function(z4)\n",
    "    z3 = np.dot(a3,w2)\n",
    "    a2 = sigmoid_function(z3)\n",
    "    return a1,a2,a3,z4,z3,z2"
   ]
  },
  {
   "cell_type": "markdown",
   "metadata": {},
   "source": [
    "Neural network construction that involves forward and backward propogation.\n",
    "The network returns the trained weights."
   ]
  },
  {
   "cell_type": "code",
   "execution_count": 40,
   "metadata": {
    "collapsed": true
   },
   "outputs": [],
   "source": [
    "def neural_nets(train_features,train_label):\n",
    "    w1,w2,w3 = initialize_weights()\n",
    "    a = np.array(train_label)\n",
    "    y = actual_output(a)\n",
    "    y = np.array(y)\n",
    "\n",
    "    for j in range(0,30):\n",
    "        print(\"Epoch no:\",j)\n",
    "        for i in range(0,len(train_label)):\n",
    "                x = train_features.loc[i]\n",
    "                ip = np.array(x[0:784])[np.newaxis]\n",
    "                a1,a2,a3,z4,z3,z2 = feedforward(w1,w2,w3,ip)\n",
    "                delta3 = np.multiply(((y[i]-a2)), diff_sigmoid_function(a2))\n",
    "                djdw3 = np.dot(a3.T,delta3)\n",
    "                delta2 = np.dot(delta3,w2.T) * diff_sigmoid_function(a3)\n",
    "                djdw2 = np.dot(a1.T,delta2)\n",
    "                delta1 = np.dot(delta2,w3.T) * diff_sigmoid_function(a1)\n",
    "                djdw1 = np.dot(ip.T,delta1)\n",
    "                learning_rate = 0.1 if j<20 else 0.01\n",
    "                w1 = w1 + learning_rate * djdw1\n",
    "                w2 = w2 + learning_rate * djdw3\n",
    "                w3 = w3 + learning_rate * djdw2\n",
    "    return w1,w2,w3"
   ]
  },
  {
   "cell_type": "markdown",
   "metadata": {},
   "source": [
    "Below we have trained the neural network and stored the trained weights in w1,w2 and w3.\n",
    "We would be using them in testing phase."
   ]
  },
  {
   "cell_type": "code",
   "execution_count": 41,
   "metadata": {
    "scrolled": true
   },
   "outputs": [
    {
     "name": "stdout",
     "output_type": "stream",
     "text": [
      "Epoch no: 0\n",
      "Epoch no: 1\n",
      "Epoch no: 2\n",
      "Epoch no: 3\n",
      "Epoch no: 4\n",
      "Epoch no: 5\n",
      "Epoch no: 6\n",
      "Epoch no: 7\n",
      "Epoch no: 8\n",
      "Epoch no: 9\n",
      "Epoch no: 10\n",
      "Epoch no: 11\n",
      "Epoch no: 12\n",
      "Epoch no: 13\n",
      "Epoch no: 14\n",
      "Epoch no: 15\n",
      "Epoch no: 16\n",
      "Epoch no: 17\n",
      "Epoch no: 18\n",
      "Epoch no: 19\n",
      "Epoch no: 20\n",
      "Epoch no: 21\n",
      "Epoch no: 22\n",
      "Epoch no: 23\n",
      "Epoch no: 24\n",
      "Epoch no: 25\n",
      "Epoch no: 26\n",
      "Epoch no: 27\n",
      "Epoch no: 28\n",
      "Epoch no: 29\n",
      "[[-0.64735065  0.20819809  0.55473908 ..., -0.93511812  0.62841465\n",
      "   0.6825555 ]\n",
      " [-0.84323945  0.88656638 -0.59937892 ..., -0.08587459  0.22735615\n",
      "  -0.6321765 ]\n",
      " [ 0.10973446  0.76758299  0.22149643 ..., -0.32077813 -0.1362702\n",
      "   0.9234647 ]\n",
      " ..., \n",
      " [ 0.61013518 -0.97396975 -0.52837762 ...,  0.75256533  0.33498545\n",
      "   0.43408105]\n",
      " [-0.11621277 -0.34956575 -0.89813486 ...,  0.91851742 -0.78713963\n",
      "  -0.72898324]\n",
      " [ 0.35866426 -0.13678911  0.30080757 ...,  0.74261196 -0.93548971\n",
      "   0.37253284]]\n",
      "[[-1.78934992 -0.53864205  1.87749006  2.31930263 -0.68855665  2.36464021\n",
      "  -3.14247716 -2.95250675 -2.58542823 -0.98308538]\n",
      " [-1.33784692 -0.56383035  2.35873877 -1.40974107  0.25414421 -1.12231489\n",
      "  -0.84803539  0.41156523  0.81430198  1.22333569]\n",
      " [-1.46662443  1.56355087 -2.09365887  3.17368318  0.95414081 -4.42308572\n",
      "   0.02562577 -0.92299736 -2.56046679  1.09429234]\n",
      " [-2.63936267  0.12171957 -1.33640331 -0.13348742  0.46141968  2.00759914\n",
      "  -3.42299537  1.5538571   0.50657996  0.97863005]\n",
      " [ 0.86019202  0.79875059 -2.37229632  0.89240316 -0.41867859  0.12040588\n",
      "  -0.64003345  1.3492521  -2.11284989 -1.41533007]\n",
      " [-1.48647328 -2.12831827 -3.04479204 -1.2778546   1.2837714   0.08756256\n",
      "   2.40928159  1.21551985  0.73534315 -1.66058551]\n",
      " [-0.54027706  0.11848435  0.51254177  1.1859135   0.03773372 -1.92552315\n",
      "   0.44395133 -1.24017968 -0.3537146  -1.09708363]\n",
      " [-0.27928184 -1.39956908 -0.03205265 -1.56799434  3.02874081  0.2299217\n",
      "  -1.07148387 -2.28098122  1.96116996 -2.63225428]\n",
      " [ 1.05805064  0.96635656 -0.93033939  0.7552419  -3.21393009  1.88611421\n",
      "  -0.7095658  -3.33157067  1.91849801 -1.32433677]\n",
      " [-0.32530668 -0.58108502  2.82158847 -0.8512009   2.59728157 -2.02290621\n",
      "  -3.14303959 -2.77143877 -1.26231607  1.59888434]\n",
      " [-0.49246821 -1.77808227  3.73672135 -2.05674155 -1.05647114 -0.82906095\n",
      "  -1.00220465 -1.25957637 -2.81860158  0.03103158]\n",
      " [ 0.8686377   0.35934454 -2.16504607  0.19370677 -1.54183232  1.5266613\n",
      "  -0.75914466 -0.94041043 -2.87001597  2.32053462]\n",
      " [ 2.06423521 -2.07067878  2.0487225  -1.52520727 -1.26253965 -2.70097706\n",
      "  -0.12154874  2.1009926  -2.00726191 -1.10540603]\n",
      " [-0.13809792  1.93863285  1.66575982  0.36961312 -3.86041218 -0.62871706\n",
      "   3.66141156 -3.04747003  0.49335626 -3.44754488]\n",
      " [ 1.84113788 -0.72333707 -2.40238232  2.19298583 -1.14155418 -1.55353601\n",
      "  -1.38329498 -1.33324979 -0.31818548  0.49964904]\n",
      " [ 2.11019432 -2.14133856  1.0538605   1.56675861  0.4701601  -1.57106637\n",
      "  -3.09616501  1.67984805 -3.90793929 -2.29189882]\n",
      " [-2.05178444  0.65944816 -1.1007593   0.44216314  0.30374987 -0.52281643\n",
      "   0.66428347  2.16387035 -1.97568632  0.43470566]\n",
      " [-0.61385224 -1.68640001  2.26212355 -0.6333602  -1.93943628 -1.68119438\n",
      "  -0.68398929 -0.77007115 -0.29030773  1.484526  ]\n",
      " [-0.04460985  1.23374645  0.27131081 -0.6918858   1.90468609  0.34524747\n",
      "  -1.31062525  2.14771156 -1.50526256 -2.67399374]\n",
      " [ 0.3979536   0.00455335 -1.44571512 -1.71092119 -2.7300545   1.26062601\n",
      "   1.34293305 -0.23952495  0.22781183  0.50400998]\n",
      " [-2.23036971 -0.17264439  2.3184443  -1.02980727 -1.40779063 -1.41058551\n",
      "   1.65428211 -1.83608769 -1.58938421 -0.22470389]\n",
      " [-2.17816338  0.90112276  0.31813    -2.05314028 -0.54872048  0.29960342\n",
      "  -0.6039654   1.01382663 -1.20404036 -0.27226954]\n",
      " [-1.12247505 -0.71403325 -0.08851636 -0.53170773 -0.10947378 -1.38269819\n",
      "   0.26273554  0.21285953 -1.40699183 -1.84902276]\n",
      " [-2.56183465 -0.43101862 -0.16480985  1.40964412 -1.60359202  1.57878053\n",
      "   1.573338   -2.16518778 -1.83188235  1.27386855]\n",
      " [-0.34899599  2.06370792 -0.56496616  0.31383342 -0.48078702  2.26141614\n",
      "   0.48395487 -1.95267266 -2.5914725  -0.75764531]\n",
      " [-1.66470384 -1.17091664 -1.33330631 -0.65500649  2.56637737 -2.03168079\n",
      "   2.05992551 -1.64006593 -0.62411612 -4.13636494]\n",
      " [-0.6513482  -1.50344391  2.22671352  0.56939341  0.43015739  2.02805006\n",
      "  -2.13736117  0.24201648  1.17875115 -2.10860389]\n",
      " [-0.28562396  0.43044789 -0.18410571 -1.13267031 -0.15591456  0.24919105\n",
      "  -2.16326608 -1.17768742  0.74261436  0.57938369]\n",
      " [-0.95815356  0.23035442  0.26100272 -2.20155988 -1.17563886 -3.30691417\n",
      "   0.08371296 -2.30478549  1.92376277  2.53095166]\n",
      " [-1.68912162  1.50365643  0.56262839  0.16833931 -1.67954993  0.91759386\n",
      "   0.83386096  0.04271214 -2.35540301  0.57821573]\n",
      " [ 1.71697089 -2.37934372  0.34850763 -3.69806262 -0.90937251  3.07633493\n",
      "   0.70665781 -2.25674636 -0.62886657  0.97724773]\n",
      " [-0.80977285 -2.70058597 -0.54901861  1.25381457 -2.54470636 -2.02944469\n",
      "  -1.32466886 -0.32290823  0.39051289  2.15394714]\n",
      " [-1.54542707  2.5004905  -2.97910344 -2.08863821 -0.24250717 -3.02829047\n",
      "   0.18153716 -0.81790203  2.51415968  1.72559271]\n",
      " [-1.70668538 -1.5433445  -0.41161743  2.15292488 -0.62794278 -2.99765549\n",
      "   0.46847985  0.38657571  2.27338797  0.13310969]\n",
      " [ 0.05193207 -1.58771641 -0.9337734   0.71811823  0.86945359 -0.30000088\n",
      "  -0.72082406 -1.98015546 -1.56954748  1.67825014]\n",
      " [-2.12239185  1.68520766  1.60159042 -3.10706341  0.10281017 -2.46549562\n",
      "  -0.3094469  -0.64725033 -2.55284686  0.54092952]\n",
      " [-0.39042462 -0.65751282  0.1945381  -1.87146961 -2.15932068  0.11236988\n",
      "  -0.43000282 -0.11652655  1.76372708 -1.68255988]\n",
      " [-0.61904623 -0.74051094 -0.03264672  2.62542478 -1.08412857 -2.24657378\n",
      "  -0.43773628 -1.75839163  1.71505361 -0.69851423]\n",
      " [ 0.29544967 -2.53094745 -1.00644904 -0.84124191  0.82433076  0.13578424\n",
      "   0.9575569   0.64999631 -1.35694212 -1.40579257]\n",
      " [ 2.23322273  0.02156847 -0.09320976 -0.59223323 -2.53220441 -1.02083341\n",
      "  -3.0725437   0.57870344  1.9629955  -3.1705528 ]\n",
      " [ 0.58557466 -1.55074623 -1.15186786  0.37544353  1.26809438 -2.56339225\n",
      "  -1.42399183 -1.12952265  1.10925239  0.02930332]\n",
      " [-0.61925039 -0.10448002  1.20279347 -1.3238045  -1.19643073 -0.8213386\n",
      "  -0.23901466  1.68772066  0.12183684 -1.99338812]\n",
      " [-0.26328003  0.61270605 -1.23451679 -0.6874296   0.46489545  0.04107585\n",
      "  -1.17950937 -0.71795378 -1.92942172  0.91556131]\n",
      " [-1.99805643  1.08242326 -1.47262615  2.04250601 -1.5005304  -0.43890992\n",
      "  -1.6021893   2.43551037 -0.2813283  -2.15685222]\n",
      " [-0.9347655  -0.80520534 -1.67788095 -1.99642321 -0.58881427  0.22130529\n",
      "  -0.7161848  -0.55685572 -1.00793969 -1.1061427 ]\n",
      " [-0.61499322 -0.509282   -0.67206356 -1.66172452 -0.48110383 -0.12208661\n",
      "  -0.15427307 -0.43294412  0.02874176  0.00585112]\n",
      " [-0.73533318 -2.05255358 -1.02258834 -0.6225121  -0.0130837  -1.34591968\n",
      "   0.23653708 -0.67042522  0.36620954  0.22227799]\n",
      " [ 2.56504136  0.45060093 -0.2005104  -0.70200811 -0.8975496  -3.57656544\n",
      "   1.65386928  0.26522421 -1.21603313  0.06955119]\n",
      " [-1.89019143 -0.19373169 -1.41525241 -0.89934553 -0.75974229 -0.66134101\n",
      "  -0.13858643  1.5988746   0.09991922 -1.19794966]\n",
      " [-0.54302445 -1.87221145 -0.02631576  0.78258977 -0.0531254   0.26641667\n",
      "   0.9408411  -0.19629444  1.27068281 -0.58607573]]\n",
      "[[-1.24866148  0.35643639 -1.01440134 ...,  0.81281662 -0.7308313\n",
      "  -0.26852281]\n",
      " [ 0.60426763 -1.19188977  0.2297109  ..., -1.15824695 -0.17386082\n",
      "  -0.20998052]\n",
      " [ 1.38557225  0.31224225  0.47253458 ...,  0.04662595 -0.55263977\n",
      "   0.14396576]\n",
      " ..., \n",
      " [ 0.73306382  0.98893028 -0.875136   ..., -0.47797079  0.197077\n",
      "   0.66213184]\n",
      " [ 1.43314587 -0.03731263 -0.08114251 ..., -1.15428323 -1.10549851\n",
      "  -0.6018698 ]\n",
      " [-1.24931179 -0.19681033 -1.26311314 ...,  0.35005037 -0.67747004\n",
      "  -1.08786608]]\n"
     ]
    }
   ],
   "source": [
    "w1,w2,w3 = neural_nets(train_features,train_label)\n",
    "print(w1)\n",
    "print(w2)\n",
    "print(w3)"
   ]
  },
  {
   "cell_type": "markdown",
   "metadata": {},
   "source": [
    "Function module to perform testing using feed forward."
   ]
  },
  {
   "cell_type": "code",
   "execution_count": 42,
   "metadata": {
    "collapsed": true
   },
   "outputs": [],
   "source": [
    "def test_nnet():\n",
    "\n",
    "    predicted_array=[]\n",
    "    label = [0,1,2,3,4,5,6,7,8,9]\n",
    "    \n",
    "   \n",
    "    for i in range(0,len(test_label)):\n",
    "        x = np.array(test_features.loc[i])\n",
    "        z2 = np.dot(x,w1)\n",
    "        a2 = sigmoid_function(z2)\n",
    "        z4 = np.dot(a2,w3)\n",
    "        a3 = sigmoid_function(z4)\n",
    "        z3 = np.dot(a3,w2)\n",
    "        yhat = sigmoid_function(z3)\n",
    "        max = -99.99\n",
    "        max_label = 0\n",
    "        for j in range(0,len(yhat)):\n",
    "            if yhat[j]>max:\n",
    "                max = yhat[j]\n",
    "                max_label = j\n",
    "        if max_label==0:\n",
    "             predicted_array.append(label[0])\n",
    "        elif max_label==1:\n",
    "             predicted_array.append(label[1])\n",
    "        elif max_label==2:\n",
    "             predicted_array.append(label[2])\n",
    "        elif max_label==3:\n",
    "             predicted_array.append(label[3])\n",
    "        elif max_label==4:\n",
    "             predicted_array.append(label[4])\n",
    "        elif max_label==5:\n",
    "             predicted_array.append(label[5])\n",
    "        elif max_label==6:\n",
    "             predicted_array.append(label[6])\n",
    "        elif max_label==7:\n",
    "             predicted_array.append(label[7]) \n",
    "        elif max_label==8:\n",
    "             predicted_array.append(label[8])\n",
    "        elif max_label==9:\n",
    "             predicted_array.append(label[9]) \n",
    "    correct = 0.0\n",
    "    for i in range(0,len(test_label)):\n",
    "        if predicted_array[i] == test_label[i]:\n",
    "             correct +=1\n",
    "    print(\"-----\"*18)\n",
    "    print (\"Predicted orientation of\",int(correct),\"images correctly out of\",len(test_label),\"test images.\")\n",
    "    print (\"-----\"*18)\n",
    "    accuracy = float(float(correct)/len(test_label))\n",
    "    print( \"accuracy\",accuracy*100,\"%\")"
   ]
  },
  {
   "cell_type": "markdown",
   "metadata": {},
   "source": [
    "Function call to the testing module."
   ]
  },
  {
   "cell_type": "code",
   "execution_count": 43,
   "metadata": {},
   "outputs": [
    {
     "name": "stdout",
     "output_type": "stream",
     "text": [
      "------------------------------------------------------------------------------------------\n",
      "Predicted orientation of 11625 images correctly out of 12600 test images.\n",
      "------------------------------------------------------------------------------------------\n",
      "accuracy 92.26190476190477 %\n"
     ]
    }
   ],
   "source": [
    "test_nnet()"
   ]
  },
  {
   "cell_type": "markdown",
   "metadata": {
    "collapsed": true
   },
   "source": [
    "## CONCLUSION:\n",
    "\n",
    "We observe an accuracy of 91-94% over the test set, which looks to be pretty good.\n",
    "We can try using other activation functions like RELU and softmax in order to observe change in performance.\n",
    "As a step for further exploration, we can implement the project using Convolutional neural networks and deep learning."
   ]
  }
 ],
 "metadata": {
  "kernelspec": {
   "display_name": "Python 3",
   "language": "python",
   "name": "python3"
  },
  "language_info": {
   "codemirror_mode": {
    "name": "ipython",
    "version": 3
   },
   "file_extension": ".py",
   "mimetype": "text/x-python",
   "name": "python",
   "nbconvert_exporter": "python",
   "pygments_lexer": "ipython3",
   "version": "3.6.3"
  }
 },
 "nbformat": 4,
 "nbformat_minor": 2
}
